{
 "cells": [
  {
   "cell_type": "code",
   "execution_count": 1,
   "metadata": {},
   "outputs": [],
   "source": [
    "# Thư viện\n",
    "import pandas as pd\n",
    "from matplotlib import pyplot as plt\n",
    "import numpy as np\n",
    "import seaborn as sns\n",
    "import warnings\n",
    "warnings.filterwarnings('ignore')"
   ]
  },
  {
   "cell_type": "code",
   "execution_count": 2,
   "metadata": {},
   "outputs": [],
   "source": [
    "#read file \n",
    "df = pd.read_csv('CSGO_Market.csv')"
   ]
  },
  {
   "cell_type": "code",
   "execution_count": 20,
   "metadata": {},
   "outputs": [],
   "source": [
    "Item_extra_list = ['StatTrak™', 'Souvenir', 'Normal']\n",
    "\n",
    "Item_type_list = ['Rifle', 'Sniper Rifle', 'Pistol', 'SMG', 'Shotgun', 'Machinegun', \n",
    "                  'Knife', 'Gloves', 'Sticker', 'Container', 'Others']\n",
    "\n",
    "Exterior_list = ['Battle-Scarred', 'Well-Worn', 'Field-Tested', 'Minimal Wear', 'Factory New', 'None']\n",
    "\n",
    "Rarity_list = ['Base Grade', 'Consumer Grade', 'Industrial Grade', 'Mil-Spec', 'Restricted', \n",
    "               'Classified', 'Covert', 'Extraordinary',\n",
    "                  'High Grade', 'Remarkable', 'Exotic', 'None']"
   ]
  },
  {
   "cell_type": "code",
   "execution_count": 5,
   "metadata": {},
   "outputs": [
    {
     "data": {
      "text/plain": [
       "562.8599895670318"
      ]
     },
     "execution_count": 5,
     "metadata": {},
     "output_type": "execute_result"
    }
   ],
   "source": [
    "df['Days to reach min'].mean()"
   ]
  },
  {
   "cell_type": "code",
   "execution_count": 9,
   "metadata": {},
   "outputs": [
    {
     "name": "stdout",
     "output_type": "stream",
     "text": [
      "0.5250912884715702\n",
      "0.4748565466875326\n"
     ]
    }
   ],
   "source": [
    "print(len(df[df['Days to reach min'] < df['Days to reach max']]) / len(df))\n",
    "print(len(df[df['Days to reach min'] > df['Days to reach max']]) / len(df))"
   ]
  },
  {
   "cell_type": "code",
   "execution_count": 31,
   "metadata": {},
   "outputs": [
    {
     "name": "stdout",
     "output_type": "stream",
     "text": [
      "Avg price by extra:  \n",
      "\n",
      "StatTrak™ : 1825015.5164573377\n",
      "Souvenir : 638537.1542428073\n",
      "Normal : 838875.8390217768\n",
      " \n",
      "Avg price by type:  \n",
      "\n",
      "Rifle : 884750.7902816571\n",
      "Sniper Rifle : nan\n",
      "Pistol : 291945.8927582509\n",
      "SMG : 175595.33843803697\n",
      "Shotgun : 113358.55286458871\n",
      "Machinegun : 185540.11197481368\n",
      "Knife : 5020627.454104856\n",
      "Gloves : 8700526.042972788\n",
      "Sticker : 137440.26580947376\n",
      "Container : 250791.2563814286\n",
      "Others : 31547.88150040375\n",
      " \n"
     ]
    }
   ],
   "source": [
    "print('Avg price by extra: ', '\\n') \n",
    "for item in Item_extra_list:   \n",
    "    print(item, \":\", df[df['Extra'] == item]['Average price (VND)'].mean())\n",
    "print(' ')\n",
    "print('Avg price by type: ', '\\n') \n",
    "for item in Item_type_list:   \n",
    "    print(item, \":\", df[df['Type'] == item]['Average price (VND)'].mean())\n",
    "print(' ')"
   ]
  },
  {
   "cell_type": "code",
   "execution_count": 32,
   "metadata": {},
   "outputs": [
    {
     "name": "stdout",
     "output_type": "stream",
     "text": [
      "Avg price by exterior:  \n",
      "\n",
      "Battle-Scarred : 1157932.491807857\n",
      "Well-Worn : 1108583.9248148182\n",
      "Field-Tested : 1445926.5420879894\n",
      "Minimal Wear : 1995114.501870035\n",
      "Factory New : 2302772.4084820277\n",
      "None : 142720.7978138154\n",
      " \n",
      "Avg price by rarity:  \n",
      "\n",
      "Base Grade : 55111.82257299852\n",
      "Consumer Grade : 23959.061648847077\n",
      "Industrial Grade : 86443.93714087906\n",
      "Mil-Spec : 74667.4005763578\n",
      "Restricted : 229928.84888554964\n",
      "Classified : 916144.8561787975\n",
      "Covert : 4537392.339362665\n",
      "Extraordinary : 2645887.5469620214\n",
      "High Grade : 39044.76628807081\n",
      "Remarkable : 82370.4335950842\n",
      "Exotic : 138678.88229737477\n",
      "None : 163409.05964000005\n",
      " \n"
     ]
    }
   ],
   "source": [
    "print('Avg price by exterior: ', '\\n') \n",
    "for item in Exterior_list:   \n",
    "    print(item, \":\", df[df['Exterior'] == item]['Average price (VND)'].mean())\n",
    "print(' ')\n",
    "print('Avg price by rarity: ', '\\n') \n",
    "for item in Rarity_list:   \n",
    "    print(item, \":\", df[df['Rarity'] == item]['Average price (VND)'].mean())\n",
    "print(' ')"
   ]
  },
  {
   "attachments": {},
   "cell_type": "markdown",
   "metadata": {},
   "source": [
    "- NO LINEAR REGRESSION for item of 'others' type since we do not care about them.\n",
    "\n",
    "- NO LINEAR REGRESSION for item of 'container' type since we do not care about them.\n",
    "\n",
    "separate linear regression model for each of gloves, knife and stickers as their rarity/extra/exterior works differently, other types get a shared model. "
   ]
  }
 ],
 "metadata": {
  "kernelspec": {
   "display_name": "Python 3.9.12 ('base')",
   "language": "python",
   "name": "python3"
  },
  "language_info": {
   "codemirror_mode": {
    "name": "ipython",
    "version": 3
   },
   "file_extension": ".py",
   "mimetype": "text/x-python",
   "name": "python",
   "nbconvert_exporter": "python",
   "pygments_lexer": "ipython3",
   "version": "3.9.12"
  },
  "orig_nbformat": 4,
  "vscode": {
   "interpreter": {
    "hash": "e20b5ca7cfd89e17dd6ef83cd6de17080e81300bea6a4aa7abfe0057dc7c8eca"
   }
  }
 },
 "nbformat": 4,
 "nbformat_minor": 2
}
